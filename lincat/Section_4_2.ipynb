{
 "cells": [
  {
   "cell_type": "markdown",
   "metadata": {},
   "source": [
    "# Generator of length three\n",
    "\n",
    "The following text closely follows Section 4.2 of [arXiv:1904.00166](https://arxiv.org/abs/1904.00166).\n",
    "\n",
    "For $l=3$, we have the following partitions\n",
    "$$\\mathscr{P}(3)=\\{\\mathsf{aaa},\\mathsf{aab},\\mathsf{aba},\\mathsf{abb},\\mathsf{abc}\\}.$$\n",
    "\n",
    "So, a general element $p\\in\\mathbf{Part}_\\delta(3)$ can be expressed as follows\n",
    "$$p=a\\,\\mathsf{aaa}+b_1\\,\\mathsf{aab}+b_2\\,\\mathsf{abb}+b_3\\,\\mathsf{aba}+c\\,\\mathsf{abc},$$\n",
    "where $a,b_1,b_2,b_3,c\\in\\mathbb{C}$. Now, our goal is to exclude such values of those parameters, for which $\\mathscr{K}:=\\langle p\\rangle_\\delta$ is easy. In this case, we have the following characterization of the easiness:\n",
    "\n",
    "**Lemma:** A linear category $\\mathscr{K}=\\langle p\\rangle_\\delta$ with $p\\in\\mathbf{Part}_\\delta(3)$ is easy if and only if $\\mathsf{a}\\in\\mathscr{K}$. Hence, $\\mathscr{K}$ is non-easy if and only if $\\mathscr{K}(1)$ is empty.\n",
    "\n",
    "So, let us look on the category $\\langle p\\rangle_\\delta$ using our algorithm. To define the element $p$ including all the parameters, we need to work over the ring $R=\\mathbb{C}[a,b_1,b_2,b_3,c,\\delta]$. In the code, we will use the indeterminate `n` istead of $\\delta$."
   ]
  },
  {
   "cell_type": "code",
   "execution_count": 1,
   "metadata": {},
   "outputs": [],
   "source": [
    "ring r=0,(a,b1,b2,b3,c,n),dp;"
   ]
  },
  {
   "cell_type": "code",
   "execution_count": 2,
   "metadata": {},
   "outputs": [
    {
     "data": {
      "text/plain": [
       "// ** redefining L (list L;)\r\n",
       "// ** redefining L (list L;)\r\n",
       "// ** redefining L (list L;)\r\n",
       "// ** redefining L (list L;)\r\n",
       "// ** redefining L (list L;)\r\n",
       "// ** redefining L (list L;)\r\n",
       "// ** redefining L (list L;)\r\n",
       "// ** redefining L (list L;)\r\n",
       "// ** redefining M (module M;)\r\n"
      ]
     },
     "execution_count": 2,
     "metadata": {},
     "output_type": "execute_result"
    }
   ],
   "source": [
    "execute(read(\"lincat.sing\"));"
   ]
  },
  {
   "cell_type": "markdown",
   "metadata": {},
   "source": [
    "Checking the file `wlist` we find out the correct _coding_ for the partitions:\n",
    "\n",
    "Partition | Assoicated basis vector\n",
    "----------|------------------     \n",
    "      ааа | gen(1)\n",
    "      aab | gen(2)\n",
    "      aba | gen(3)\n",
    "      abb | gen(4)\n",
    "      abc | gen(5)"
   ]
  },
  {
   "cell_type": "code",
   "execution_count": 3,
   "metadata": {},
   "outputs": [],
   "source": [
    "addParts(3,a*gen(1)+b1*gen(2)+b2*gen(4)+b3*gen(3)+c*gen(5));"
   ]
  },
  {
   "cell_type": "markdown",
   "metadata": {},
   "source": [
    "Now since `addParts` already does contractions, we can check, whether $\\mathscr{K}$ contains the singleton. Recall that, in the code, `n` is used instead of $\\delta$ and `C` stands for the approximation of $\\mathscr{K}$."
   ]
  },
  {
   "cell_type": "code",
   "execution_count": 4,
   "metadata": {},
   "outputs": [
    {
     "data": {
      "text/plain": [
       "_[1]=b3*n*gen(1)+c*n*gen(1)+a*gen(1)+b1*gen(1)+b2*gen(1)\r\n",
       "_[2]=b2*n*gen(1)+c*n*gen(1)+a*gen(1)+b1*gen(1)+b3*gen(1)\r\n",
       "_[3]=b1*n*gen(1)+c*n*gen(1)+a*gen(1)+b2*gen(1)+b3*gen(1)\r\n",
       "_[4]=a*b2*gen(1)+b1*b2*gen(1)+b2^2*gen(1)-a*b3*gen(1)-b1*b3*gen(1)-b3^2*gen(1)+b2*c*gen(1)-b3*c*gen(1)\r\n",
       "_[5]=a*b1*gen(1)+b1^2*gen(1)+b1*b2*gen(1)-a*b3*gen(1)-b2*b3*gen(1)-b3^2*gen(1)+b1*c*gen(1)-b3*c*gen(1)\r\n"
      ]
     },
     "execution_count": 4,
     "metadata": {},
     "output_type": "execute_result"
    }
   ],
   "source": [
    "C[1];"
   ]
  },
  {
   "cell_type": "markdown",
   "metadata": {},
   "source": [
    "From the first three lines, we see that $\\mathscr{K}$ does not contain singleton only if the following equations are satisfied\n",
    "$$\\eqalign{\n",
    "a+\\phantom\\delta b_1+\\phantom\\delta b_2+\\delta b_3+\\delta c&=0\\cr\n",
    "a+\\phantom\\delta b_1+\\delta b_2+\\phantom\\delta b_3+\\delta c&=0\\cr\n",
    "a+\\delta b_1+\\phantom\\delta b_2+\\phantom\\delta b_3+\\delta c&=0.\n",
    "}$$\n",
    "Solving these equations, we find out that the parameters $b_1$, $b_2$, and $b_3$ must coincide, so denote $b:=b_1=b_2=b_3$. In addition, we have the condition\n",
    "$$a+(2+\\delta)b+c=0.$$\n",
    "So, we can put $a:=-(2+\\delta)b-\\delta c$. Now, we can run our algorithm again over $\\mathbb{C}[\\delta,b,c]$. So, first we define the ring:"
   ]
  },
  {
   "cell_type": "code",
   "execution_count": 5,
   "metadata": {},
   "outputs": [
    {
     "data": {
      "text/plain": [
       "// ** redefining lmax (int lmax=8;)\r\n",
       "// ** redefining B (vec B=1,2,5,15,52,203,877,4140,21147,115975,678570,4213597,27644437,190899322;)\r\n",
       "// ** redefining L (list L;)\r\n",
       "// ** redefining L (list L;)\r\n",
       "// ** redefining L (list L;)\r\n",
       "// ** redefining L (list L;)\r\n",
       "// ** redefining L (list L;)\r\n",
       "// ** redefining L (list L;)\r\n",
       "// ** redefining L (list L;)\r\n",
       "// ** redefining L (list L;)\r\n",
       "// ** redefining L (list L;)\r\n",
       "// ** redefining M (module M;)\r\n",
       "// ** redefining subn (\tint j;)\r\n",
       "// ** redefining addParts (\tM=std(M);)\r\n",
       "// ** redefining addTensors (int l;)\r\n"
      ]
     },
     "execution_count": 5,
     "metadata": {},
     "output_type": "execute_result"
    }
   ],
   "source": [
    "ring r=0,(b,c,n),dp;\n",
    "execute(read(\"lincat.sing\"));"
   ]
  },
  {
   "cell_type": "markdown",
   "metadata": {},
   "source": [
    "Now we can element\n",
    "$$p=-((2+\\delta)b+\\delta c)\\,\\mathsf{aaa}+b(\\mathsf{aab}+\\mathsf{abb}+\\mathsf{aba})+c\\,\\mathsf{abc}$$\n",
    "to our category approximation using `addParts`."
   ]
  },
  {
   "cell_type": "code",
   "execution_count": 6,
   "metadata": {},
   "outputs": [],
   "source": [
    "addParts(3,-((2+n)*b+n*c)*gen(1)+b*(gen(2)+gen(4)+gen(3))+c*gen(5));"
   ]
  },
  {
   "cell_type": "markdown",
   "metadata": {},
   "source": [
    "First, we can check that $p$ was indeed chosen in such a way that `C[1]` is empty. That is, the singleton is not a contraction of $p$."
   ]
  },
  {
   "cell_type": "code",
   "execution_count": 7,
   "metadata": {},
   "outputs": [
    {
     "data": {
      "text/plain": [
       "_[1]=0\r\n"
      ]
     },
     "execution_count": 7,
     "metadata": {},
     "output_type": "execute_result"
    }
   ],
   "source": [
    "C[1];"
   ]
  },
  {
   "cell_type": "markdown",
   "metadata": {},
   "source": [
    "Now, we can run one iteration of `addTensors`."
   ]
  },
  {
   "cell_type": "code",
   "execution_count": 8,
   "metadata": {},
   "outputs": [],
   "source": [
    "addTensors();"
   ]
  },
  {
   "cell_type": "code",
   "execution_count": 9,
   "metadata": {},
   "outputs": [
    {
     "data": {
      "text/plain": [
       "_[1]=c3n4*gen(1)-b2cn3*gen(1)+4bc2n3*gen(1)-3c3n3*gen(1)-2b3n2*gen(1)+7b2cn2*gen(1)-12bc2n2*gen(1)+2c3n2*gen(1)+6b3n*gen(1)-14b2cn*gen(1)+8bc2n*gen(1)-4b3*gen(1)+8b2c*gen(1)\r\n"
      ]
     },
     "execution_count": 9,
     "metadata": {},
     "output_type": "execute_result"
    }
   ],
   "source": [
    "C[1];"
   ]
  },
  {
   "cell_type": "markdown",
   "metadata": {},
   "source": [
    "Now, we can see that a singleton is not an element of this category only if\n",
    "$$\\eqalign{\n",
    "0&=c^3\\delta^4-b^2c\\delta^3+4bc^2\\delta^3-3c^3\\delta^3-2b^3\\delta^2+7b^2c\\delta^2-12bc^2\\delta^2+2c^3\\delta^2+6b^3\\delta-14b^2c\\delta+8bc^2\\delta-4b^3+8b^2c\\cr\n",
    " &=(\\delta-1)(\\delta-2)(\\delta c+2b)(\\delta c^2+2bc-b^2)\n",
    "}$$\n",
    "Thus, excluding the case $\\delta=1,2$, the category can be non-easy only if \n",
    "$$b=-c\\delta/2\\quad\\hbox{or}\\quad b=(1\\pm\\sqrt{\\delta+1})c.$$\n",
    "These solutions constitute our three candidates for non-easy categories. In the article, it is then proven that they are indeed non-easy. Nevertheless, before going to the proof, we can use our algorithm to check, that `C[1]` indeed remains empty after an arbitrary amount of iterations of `addTensors` in these cases.\n",
    "\n",
    "Let us start with the first solution. We can normalize it putting $c:=2$, so we have\n",
    "$$p=\\delta^2\\,\\mathsf{aaa}-\\delta(\\mathsf{abb}+\\mathsf{aab}+\\mathsf{aba})+2\\mathsf{abc}$$\n",
    "So, we can work over the ring $\\mathbb{C}[\\delta]$"
   ]
  },
  {
   "cell_type": "code",
   "execution_count": 10,
   "metadata": {},
   "outputs": [
    {
     "data": {
      "text/plain": [
       "_[1]=0\r\n"
      ]
     },
     "execution_count": 10,
     "metadata": {},
     "output_type": "execute_result"
    }
   ],
   "source": [
    "ring r=0,(n),dp;\n",
    "execute(read(\"lincat.sing\"));\n",
    "addParts(3,n^2*gen(1)-n*(gen(2)+gen(4)+gen(3))+2*gen(5));\n",
    "addTensors();\n",
    "addTensors();\n",
    "addTensors();\n",
    "addTensors();\n",
    "C[1];"
   ]
  },
  {
   "cell_type": "markdown",
   "metadata": {},
   "source": [
    "For the second solution, we again normalize by putting $c:=1$, so we have\n",
    "$$p=\\left(-2(1+\\delta)\\mp(2+\\delta)\\sqrt{\\delta+1}\\right)\\,\\mathsf{aaa}-(1\\pm\\sqrt{\\delta+1})(\\mathsf{abb}+\\mathsf{aab}+\\mathsf{aba})+\\mathsf{abc}$$\n",
    "In order to represent this in Singular, we need to define the quotient ring $\\mathbb{C}[b,\\delta]/(b^2-2b-\\delta=0)$."
   ]
  },
  {
   "cell_type": "code",
   "execution_count": 11,
   "metadata": {},
   "outputs": [
    {
     "data": {
      "text/plain": [
       "_[1]=0\r\n"
      ]
     },
     "execution_count": 11,
     "metadata": {},
     "output_type": "execute_result"
    }
   ],
   "source": [
    "ring r=0,(b,n),dp;\n",
    "qring rr=std(b^2-2b-n);\n",
    "execute(read(\"lincat.sing\"));\n",
    "addParts(3,-((2+n)*b+n)*gen(1)+b*(gen(2)+gen(4)+gen(3))+gen(5));\n",
    "addTensors();\n",
    "addTensors();\n",
    "addTensors();\n",
    "addTensors();\n",
    "C[1];"
   ]
  }
 ],
 "metadata": {
  "kernelspec": {
   "display_name": "Singular",
   "language": "singular",
   "name": "singular"
  },
  "language_info": {
   "codemirror_mode": "singular",
   "file_extension": ".singular",
   "mimetype": "text/x-singular",
   "name": "Singular"
  }
 },
 "nbformat": 4,
 "nbformat_minor": 2
}
