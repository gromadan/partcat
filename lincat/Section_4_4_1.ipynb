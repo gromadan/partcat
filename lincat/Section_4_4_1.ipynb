{
 "cells": [
  {
   "cell_type": "markdown",
   "metadata": {},
   "source": [
    "# Generator of length four, assuming $\\mathsf{ab}\\in\\mathscr{K}$, but $\\mathsf{abac}\\not\\in\\mathscr{K}$\n",
    "\n",
    "We take\n",
    "$$p=a_1\\mathsf{aaaa}+a_2\\mathsf{abab}+b(\\mathsf{aaab}+\\mathsf{abbb}+\\mathsf{abaa}+\\mathsf{aaba})+d(\\mathsf{abac}+\\mathsf{abcb}).$$\n",
    "We will run our algorithm for the category $\\mathscr{K}:=\\langle\\mathsf{ab},p\\rangle_\\delta$. That is:"
   ]
  },
  {
   "cell_type": "code",
   "execution_count": 1,
   "metadata": {},
   "outputs": [],
   "source": [
    "ring r=0,(a1,a2,b,d,n),dp;\n",
    "execute(read(\"lincat.sing\"));\n",
    "addParts(4,a1*gen(1)+a2*gen(7)+b*(gen(2)+gen(3)+gen(6)+gen(10))+d*(gen(8)+gen(13)));\n",
    "addParts(2,gen(2));\n",
    "addTensors();"
   ]
  },
  {
   "cell_type": "code",
   "execution_count": 2,
   "metadata": {},
   "outputs": [
    {
     "data": {
      "text/plain": [
       "_[1]=gen(4)\r\n",
       "_[2]=gen(5)\r\n",
       "_[3]=gen(9)\r\n",
       "_[4]=gen(11)\r\n",
       "_[5]=gen(12)\r\n",
       "_[6]=gen(14)\r\n",
       "_[7]=gen(15)\r\n",
       "_[8]=a1*gen(1)+a2*gen(7)+b*gen(10)+b*gen(6)+b*gen(3)+b*gen(2)+d*gen(13)+d*gen(8)\r\n",
       "_[9]=b*n*gen(2)+d*n*gen(8)+a1*gen(2)+a2*gen(8)+b*gen(8)\r\n",
       "_[10]=b*n*gen(3)+d*n*gen(13)+a1*gen(3)+a2*gen(13)+b*gen(13)\r\n",
       "_[11]=b*n*gen(6)+d*n*gen(8)+a1*gen(6)+a2*gen(8)+b*gen(8)\r\n",
       "_[12]=b*n*gen(10)+d*n*gen(13)+a1*gen(10)+a2*gen(13)+b*gen(13)\r\n",
       "_[13]=d*n^2*gen(8)+a2*n*gen(8)+2*b*n*gen(8)+a1*gen(8)\r\n",
       "_[14]=d*n^2*gen(13)+a2*n*gen(13)+2*b*n*gen(13)+a1*gen(13)\r\n",
       "_[15]=2*b^2*n*gen(1)-2*d^2*n*gen(13)-2*d^2*n*gen(8)-a1*a2*gen(7)-2*a2^2*gen(7)-4*a2*b*gen(7)+b^2*gen(13)-2*b^2*gen(10)+b^2*gen(8)-2*b^2*gen(6)-2*b^2*gen(3)-2*b^2*gen(2)-a1*d*gen(13)-a1*d*gen(8)-4*a2*d*gen(13)-4*a2*d*gen(8)-4*b*d*gen(13)-4*b*d*gen(8)\r\n",
       "_[16]=b^2*n*gen(8)-a1*d*n*gen(8)-2*a2*d*n*gen(8)-a1*a2*gen(8)-2*a2^2*gen(8)-4*a2*b*gen(8)-2*b^2*gen(8)+2*a1*d*gen(8)\r\n",
       "_[17]=b^2*n*gen(13)-a1*d*n*gen(13)-2*a2*d*n*gen(13)-a1*a2*gen(13)-2*a2^2*gen(13)-4*a2*b*gen(13)-2*b^2*gen(13)+2*a1*d*gen(13)\r\n",
       "_[18]=a1*a2*n*gen(7)+2*a2^2*n*gen(7)-2*a2*d*n*gen(13)-2*a2*d*n*gen(8)-a1*a2*gen(13)-a1*a2*gen(8)-2*a1*a2*gen(7)-4*a2^2*gen(13)-4*a2^2*gen(8)-4*a2*b*gen(13)-4*a2*b*gen(8)\r\n",
       "_[19]=a1*a2*d*n*gen(8)+2*a2^2*d*n*gen(8)+4*a2*b*d*n*gen(8)+4*a2*d^2*n*gen(8)+a1*a2^2*gen(8)+2*a2^3*gen(8)+2*a1*a2*b*gen(8)+8*a2^2*b*gen(8)+a1*b^2*gen(8)+10*a2*b^2*gen(8)+4*b^3*gen(8)-a1^2*d*gen(8)-2*a1*a2*d*gen(8)+4*a2^2*d*gen(8)-4*a1*b*d*gen(8)+8*a2*b*d*gen(8)+4*b^2*d*gen(8)-4*a1*d^2*gen(8)\r\n",
       "_[20]=a1*a2*d*n*gen(13)+2*a2^2*d*n*gen(13)+4*a2*b*d*n*gen(13)+4*a2*d^2*n*gen(13)+a1*a2^2*gen(13)+2*a2^3*gen(13)+2*a1*a2*b*gen(13)+8*a2^2*b*gen(13)+a1*b^2*gen(13)+10*a2*b^2*gen(13)+4*b^3*gen(13)-a1^2*d*gen(13)-2*a1*a2*d*gen(13)+4*a2^2*d*gen(13)-4*a1*b*d*gen(13)+8*a2*b*d*gen(13)+4*b^2*d*gen(13)-4*a1*d^2*gen(13)\r\n",
       "_[21]=2*a2*b^2*n*gen(7)-4*a2*d^2*n*gen(13)-4*a2*d^2*n*gen(8)+a1^2*a2*gen(7)+2*a1*a2^2*gen(7)+4*a1*a2*b*gen(7)-a1*b^2*gen(13)-a1*b^2*gen(8)-4*a2*b^2*gen(13)-4*a2*b^2*gen(8)-4*b^3*gen(13)-4*b^3*gen(8)+a1^2*d*gen(13)+a1^2*d*gen(8)+2*a1*a2*d*gen(13)+2*a1*a2*d*gen(8)-4*a2^2*d*gen(13)-4*a2^2*d*gen(8)+4*a1*b*d*gen(13)+4*a1*b*d*gen(8)-8*a2*b*d*gen(13)-8*a2*b*d*gen(8)-4*b^2*d*gen(13)-4*b^2*d*gen(8)+4*a1*d^2*gen(13)+4*a1*d^2*gen(8)\r\n",
       "_[22]=a1^3*a2*gen(7)+4*a1^2*a2^2*gen(7)+4*a1*a2^3*gen(7)+4*a1^2*a2*b*gen(7)+8*a1*a2^2*b*gen(7)-a1^2*b^2*gen(13)-a1^2*b^2*gen(8)-4*a1*a2*b^2*gen(13)-4*a1*a2*b^2*gen(8)+4*a1*a2*b^2*gen(7)-4*a1*b^3*gen(13)-4*a1*b^3*gen(8)+a1^3*d*gen(13)+a1^3*d*gen(8)+4*a1^2*a2*d*gen(13)+4*a1^2*a2*d*gen(8)+4*a1*a2^2*d*gen(13)+4*a1*a2^2*d*gen(8)+4*a1^2*b*d*gen(13)+4*a1^2*b*d*gen(8)-4*a1*b^2*d*gen(13)-4*a1*b^2*d*gen(8)+4*a1^2*d^2*gen(13)+4*a1^2*d^2*gen(8)\r\n",
       "_[23]=a1*a2^2*b^2*gen(8)+2*a2^3*b^2*gen(8)+2*a1*a2*b^3*gen(8)+8*a2^2*b^3*gen(8)+a1*b^4*gen(8)+10*a2*b^4*gen(8)+4*b^5*gen(8)-2*a1^2*a2*b*d*gen(8)-4*a1*a2^2*b*d*gen(8)-2*a1^2*b^2*d*gen(8)-12*a1*a2*b^2*d*gen(8)+4*a2^2*b^2*d*gen(8)-8*a1*b^3*d*gen(8)+8*a2*b^3*d*gen(8)+4*b^4*d*gen(8)+a1^3*d^2*gen(8)+2*a1^2*a2*d^2*gen(8)+4*a1^2*b*d^2*gen(8)-8*a1*a2*b*d^2*gen(8)-8*a1*b^2*d^2*gen(8)+4*a1^2*d^3*gen(8)\r\n",
       "_[24]=a1*a2^2*b^2*gen(13)+2*a2^3*b^2*gen(13)+2*a1*a2*b^3*gen(13)+8*a2^2*b^3*gen(13)+a1*b^4*gen(13)+10*a2*b^4*gen(13)+4*b^5*gen(13)-2*a1^2*a2*b*d*gen(13)-4*a1*a2^2*b*d*gen(13)-2*a1^2*b^2*d*gen(13)-12*a1*a2*b^2*d*gen(13)+4*a2^2*b^2*d*gen(13)-8*a1*b^3*d*gen(13)+8*a2*b^3*d*gen(13)+4*b^4*d*gen(13)+a1^3*d^2*gen(13)+2*a1^2*a2*d^2*gen(13)+4*a1^2*b*d^2*gen(13)-8*a1*a2*b*d^2*gen(13)-8*a1*b^2*d^2*gen(13)+4*a1^2*d^3*gen(13)\r\n"
      ]
     },
     "execution_count": 2,
     "metadata": {},
     "output_type": "execute_result"
    }
   ],
   "source": [
    "C[4];"
   ]
  },
  {
   "cell_type": "markdown",
   "metadata": {},
   "source": [
    "We want to find the conditions on the generators such that $\\mathsf{abac}\\not\\in\\mathscr{K}$. Recall that $\\mathsf{abac}$ is represented by `gen(8)`. Elements `_[13]` and `_[16]` of the above approximation give us conditions\n",
    "$$\\eqalign{\n",
    "d\\delta^2+a_2\\delta+2b\\delta+a_1&=0,\\cr\n",
    "b^2\\delta-a_1d\\delta-2a_2d\\delta-a_1a_2-2a_2^2-4a_2b-2b^2+2a_1d&=0.\n",
    "}$$\n",
    "If we compute $a_1$ from the first equation and substitute to the second one, we get\n",
    "$$0=(\\delta-2)(a_2+b+d\\delta)^2,$$\n",
    "so, assuming $\\delta\\neq 2$, we have that $\\mathsf{abac}\\not\\in\\mathscr{K}$ only if\n",
    "$$a_1=-b\\delta,\\qquad a_2=-b-d\\delta.$$\n",
    "\n",
    "Now, let us plug in those values and study the category further."
   ]
  },
  {
   "cell_type": "code",
   "execution_count": 3,
   "metadata": {},
   "outputs": [
    {
     "data": {
      "text/plain": [
       "_[1]=gen(4)\r\n",
       "_[2]=gen(5)\r\n",
       "_[3]=gen(9)\r\n",
       "_[4]=gen(11)\r\n",
       "_[5]=gen(12)\r\n",
       "_[6]=gen(14)\r\n",
       "_[7]=gen(15)\r\n",
       "_[8]=bn*gen(1)+dn*gen(7)-b*gen(10)+b*gen(7)-b*gen(6)-b*gen(3)-b*gen(2)-d*gen(13)-d*gen(8)\r\n",
       "_[9]=bdn2*gen(7)+2d2n2*gen(7)+b2n*gen(7)-bdn*gen(13)-bdn*gen(8)+2bdn*gen(7)-2d2n*gen(13)-2d2n*gen(8)-b2*gen(13)-b2*gen(8)-2bd*gen(13)-2bd*gen(8)\r\n"
      ]
     },
     "execution_count": 3,
     "metadata": {},
     "output_type": "execute_result"
    }
   ],
   "source": [
    "ring r=0,(b,d,n),dp;\n",
    "execute(read(\"lincat.sing\"));\n",
    "addParts(4,-b*n*gen(1)-(b+d*n)*gen(7)+b*(gen(2)+gen(3)+gen(6)+gen(10))+d*(gen(8)+gen(13)));\n",
    "addParts(2,gen(2));\n",
    "addTensors();\n",
    "C[4];"
   ]
  },
  {
   "cell_type": "code",
   "execution_count": 4,
   "metadata": {},
   "outputs": [
    {
     "data": {
      "text/plain": [
       "_[1]=gen(4)\r\n",
       "_[2]=gen(5)\r\n",
       "_[3]=gen(9)\r\n",
       "_[4]=gen(11)\r\n",
       "_[5]=gen(12)\r\n",
       "_[6]=gen(14)\r\n",
       "_[7]=gen(15)\r\n",
       "_[8]=bn*gen(1)+dn*gen(7)-b*gen(10)+b*gen(7)-b*gen(6)-b*gen(3)-b*gen(2)-d*gen(13)-d*gen(8)\r\n",
       "_[9]=bdn2*gen(7)+2d2n2*gen(7)+b2n*gen(7)-bdn*gen(13)-bdn*gen(8)+2bdn*gen(7)-2d2n*gen(13)-2d2n*gen(8)-b2*gen(13)-b2*gen(8)-2bd*gen(13)-2bd*gen(8)\r\n"
      ]
     },
     "execution_count": 4,
     "metadata": {},
     "output_type": "execute_result"
    }
   ],
   "source": [
    "addTensors();\n",
    "addTensors();\n",
    "C[4];"
   ]
  },
  {
   "cell_type": "markdown",
   "metadata": {},
   "source": [
    "So, it appears that the category is indeed non-easys even after further iterations of `addTensors`. Now, one might ask, whether the categories generated by those $p$ are mutually distinct for distict parameters $b$ and $d$.\n",
    "\n",
    "To decide that, note first that we can express $p$ a s a linear combination $p=a_1p_1+a_2p_2$, where (assuming $\\delta\\neq 0$)\n",
    "$$\\eqalign{\n",
    "p_1&=\\mathsf{aaaa}-{1\\over\\delta}(\\mathsf{aaab}+\\mathsf{abbb}+\\mathsf{abaa}+\\mathsf{aaba})+{1\\over\\delta^2}(\\mathsf{abac}+\\mathsf{abcb}),\\cr\n",
    "p_2&=\\mathsf{abab}-{1\\over\\delta}(\\mathsf{abac}+\\mathsf{abcb}).\n",
    "}$$\n",
    "\n",
    "Now, notice that in the computation above, the element `_[9]` is exactly equal to $\\delta(b+d\\delta)(b+2d)p_2$. Recall also that $a_2=-b-d\\delta$. So, this means that $p_2\\in\\langle\\mathsf{ab},p\\rangle_\\delta$ whenever $\\delta\\neq 0$, $b\\neq-d\\delta$ (i.e. $a_2\\neq 0$) and $b\\neq -2d$. Note also that `_[8]` exactly equals to $-p$, where $p$ is the generator we started with. This implies that $p_1\\in\\langle\\mathsf{ab}, p\\rangle_\\delta$ whenever $a_1\\neq 0$ (i.e. $b\\neq 0$) and $p_2\\in\\langle\\mathsf{ab}, p\\rangle_\\delta$.\n",
    "\n",
    "To summarize, $\\langle p\\rangle_\\delta$ must be equal to one of the following categories\n",
    "$$\\langle\\mathsf{ab}, p\\rangle_\\delta=\\cases{\n",
    "\\langle\\mathsf{ab}, p_1\\rangle& if $b=-d\\delta$, i.e. $p$ is a multiple of $p_1$,\\cr\n",
    "\\langle\\mathsf{ab}, p_2\\rangle& if $b=0$ i.e. $p$ is a multiple of $p_2$,\\cr\n",
    "\\langle\\mathsf{ab}, 2\\delta p_1+(2-\\delta)p_2\\rangle& if $b=-2d$,\\cr\n",
    "\\langle\\mathsf{ab}, p_1,p_2\\rangle& otherwise}$$\n",
    "\n",
    "Those are candidates for non-easy categories arising from our algorithm. Recall that our algorithm does not prove that they are indeed non-easy. This has to be proven by some other means. Our computation also does not prove that those four categories are mutually distinct. It [can be shown](../plin/Remark_4_13.ipynb) that the third category is actually also equal to $\\langle p_1,p_2\\rangle_\\delta$. Our algorithm would detect this only if we chose the length boud $l_0$ to be at least 10.\n",
    "\n",
    "Finally, note that if $\\delta\\neq 2,3$, we actually have $\\mathsf{ab}\\in\\langle p\\rangle_\\delta$, so we do not have to mention it explicitly as a generator as follows from the following computation."
   ]
  },
  {
   "cell_type": "code",
   "execution_count": 5,
   "metadata": {},
   "outputs": [
    {
     "data": {
      "text/plain": [
       "_[1]=gen(1)\r\n",
       "_[2]=b*gen(2)+d*gen(2)\r\n",
       "_[3]=d2n2*gen(2)-5d2n*gen(2)+6d2*gen(2)\r\n"
      ]
     },
     "execution_count": 5,
     "metadata": {},
     "output_type": "execute_result"
    }
   ],
   "source": [
    "ring r=0,(b,d,n),dp;\n",
    "execute(read(\"lincat.sing\"));\n",
    "addParts(4,-b*n*gen(1)-(b+d*n)*gen(7)+b*(gen(2)+gen(3)+gen(6)+gen(10))+d*(gen(8)+gen(13)));\n",
    "addTensors();\n",
    "C[2];"
   ]
  },
  {
   "cell_type": "code",
   "execution_count": null,
   "metadata": {},
   "outputs": [],
   "source": []
  }
 ],
 "metadata": {
  "kernelspec": {
   "display_name": "Singular",
   "language": "singular",
   "name": "singular"
  },
  "language_info": {
   "codemirror_mode": "singular",
   "file_extension": ".singular",
   "mimetype": "text/x-singular",
   "name": "Singular"
  }
 },
 "nbformat": 4,
 "nbformat_minor": 2
}
