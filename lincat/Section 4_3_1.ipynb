{
 "cells": [
  {
   "cell_type": "markdown",
   "metadata": {},
   "source": [
    "# Generator of length four, not rotationally symmetric, no singletons.\n",
    "\n",
    "The following text closely follows Section 4.3.1 of [arXiv:1904.00166](https://arxiv.org/abs/1904.00166).\n",
    "\n",
    "In this computation, we discuss the cate of a generator\n",
    "$$p=a_1\\,\\mathsf{aaaa}+a_2\\,\\mathsf{abab}+b_1\\,\\mathsf{aaab}+b_2\\,\\mathsf{abbb}+b_3\\,\\mathsf{abaa}+b_4\\,\\mathsf{aaba}+c_1\\,\\mathsf{aabc}+c_2\\,\\mathsf{abbc}+c_3\\,\\mathsf{abcc}+c_4\\,\\mathsf{abca}+d_1\\,\\mathsf{abac}+d_2\\,\\mathsf{abcb}+e\\,\\mathsf{abcd}\\in\\mathbf{Part}_\\delta(4)$$\n",
    "under the assumption that $p$ is not rotationally symmetric and $\\langle p\\rangle_\\delta$ does not contain $\\mathsf{ab}$. This means that\n",
    "$$\n",
    "0\\neq(R-1)p=:\\tilde p=\\tilde b_1\\mathsf{aaab}+\\tilde b_2\\mathsf{abbb}+\\tilde b_3\\mathsf{abaa}+\\tilde b_4\\mathsf{aaba}+\n",
    "\\tilde c_1\\mathsf{aabc}+\\tilde c_2\\mathsf{abbc}+\\tilde c_3\\mathsf{abcc}+\\tilde c_4\\mathsf{abca}+d(\\mathsf{abac}-\\mathsf{abcb}),$$\n",
    "where we denote $\\tilde b_1=b_4-b_1$, $\\tilde b_2=b_1-b_2$ and so on, so\n",
    "$$\\eqalign{\n",
    "\\tilde b_1+\\tilde b_2+\\tilde b_3+\\tilde b_4&=0,\\cr\n",
    "\\tilde c_1+\\tilde c_2+\\tilde c_3+\\tilde c_4&=0.\n",
    "}$$\n",
    "\n",
    "Denote by $\\beta\\colon\\mathbf{Part}_\\delta(2)\\to\\mathbb{C}$ the linear functional giving the coefficient of $\\mathsf{ab}$ for a given linear combination $q\\in\\mathbf{Part}_\\delta(2)$, i.e. mapping $\\alpha\\,\\mathsf{aa}+\\beta\\,\\mathsf{ab}\\mapsto\\beta$. Since $\\mathsf{ab}\\not\\in\\langle\\tilde p\\rangle_\\delta$, we have four linear equations of the form $\\beta(\\Pi(R^i\\tilde p))=0$, which read\n",
    "$$\\eqalign{\n",
    "\\tilde b_1+\\tilde b_4+\\delta \\tilde c_1+\\tilde c_2+\\tilde c_4&=0,\\cr\n",
    "\\tilde b_2+\\tilde b_1+\\delta \\tilde c_2+\\tilde c_3+\\tilde c_1&=0,\\cr\n",
    "\\tilde b_3+\\tilde b_2+\\delta \\tilde c_3+\\tilde c_4+\\tilde c_2&=0,\\cr\n",
    "\\tilde b_4+\\tilde b_3+\\delta \\tilde c_4+\\tilde c_1+\\tilde c_3&=0.\n",
    "}$$\n",
    "Together with the equations above, this leads to\n",
    "$$\\tilde c_3=-\\tilde c_1,\\quad \\tilde c_4=-\\tilde c_2,\\quad \\tilde b_2=-\\tilde b_1-\\delta \\tilde c_2,\\quad \\tilde b_3=\\tilde b_1+\\delta(\\tilde c_1+\\tilde c_2),\\quad \\tilde b_4=-\\tilde b_1-\\delta \\tilde c_1.$$\n",
    "\n",
    "We can write $\\tilde p=f(R)\\mathsf{aabc}+\\tilde q$, where $f(x)=\\tilde c_1+\\tilde c_2x+\\tilde c_3x^2+\\tilde c_4x^3$. According to Proposition 3.4, we can assume that $f$ is a divisor of $x^4-1$ (or zero). Thanks to the first two equations above, we see that $f(1)=0$ and $f(-1)=0$, so $f(x)$ is a multiple of $x^2-1$.\n",
    "\n",
    "\n",
    "Now let us do the computations. Note that we will of course omit the tildes in the code. Recall the \"coding\" of the partitions. Checking the file `wlist` we find out the correct _coding_ for the partitions:\n",
    "\n",
    "Partition | Assoicated basis vector\n",
    "----------|------------------     \n",
    "     aааа | gen(1)\n",
    "     aaab | gen(2)\n",
    "     aaba | gen(3)\n",
    "     aabb | gen(4)\n",
    "     aabc | gen(5)\n",
    "     abaa | gen(6)\n",
    "     abab | gen(7)\n",
    "     abac | gen(8)\n",
    "     abba | gen(9)\n",
    "     abbb | gen(10)\n",
    "     abbc | gen(11)\n",
    "     abca | gen(12)\n",
    "     abcb | gen(13)\n",
    "     abcc | gen(14)\n",
    "     abcd | gen(15)\n",
    "     \n",
    "\n",
    "First, let us have a look to the case $f(x)=x^2-1$. That is\n",
    "$$\\tilde c_1=-1,\\quad\\tilde c_2=0,\\quad\\tilde c_3=1,\\quad\\tilde c_4=0$$\n",
    "Thanks to the equations above, we immediatelly know that also\n",
    "$$\\tilde b_2=-\\tilde b_1,\\quad \\tilde b_3=\\tilde b_1-\\delta,\\quad \\tilde b_4=-\\tilde b_1+\\delta,$$\n",
    "so\n",
    "$$\\tilde p=\\tilde b(\\mathsf{aaab}-\\mathsf{abbb})+(\\tilde b-\\delta)(\\mathsf{abaa}-\\mathsf{aaba})-\n",
    "\\mathsf{aabc}+\\mathsf{abcc}+d(\\mathsf{abac}-\\mathsf{abcb}),$$"
   ]
  },
  {
   "cell_type": "code",
   "execution_count": 1,
   "metadata": {},
   "outputs": [],
   "source": [
    "ring r=0,(b,d,n),dp;\n",
    "execute(read(\"lincat.sing\"));\n",
    "addParts(4,b*(gen(2)-gen(10))+(b-n)*(gen(6)-gen(3))-gen(5)+gen(14)+d*(gen(8)-gen(13)));\n",
    "addTensors();"
   ]
  },
  {
   "cell_type": "markdown",
   "metadata": {},
   "source": [
    "Recall that we assume in this section that $\\mathsf{ab}\\not\\in\\mathscr{K}$. So, let us look on the space `C[2]`:"
   ]
  },
  {
   "cell_type": "code",
   "execution_count": 2,
   "metadata": {},
   "outputs": [
    {
     "data": {
      "text/plain": [
       "_[1]=gen(1)\r\n",
       "_[2]=n2*gen(2)-2n*gen(2)\r\n",
       "_[3]=b2n*gen(2)+4bdn*gen(2)-2b2*gen(2)-8bd*gen(2)\r\n"
      ]
     },
     "execution_count": 2,
     "metadata": {},
     "output_type": "execute_result"
    }
   ],
   "source": [
    "C[2];"
   ]
  },
  {
   "cell_type": "markdown",
   "metadata": {},
   "source": [
    "As we can see, $\\mathsf{ab}\\not\\in\\mathscr{K}$ only if $\\delta\\neq 2$. We do the same with other two possibilities $f(x)=(x^2-1)(x\\pm i)$."
   ]
  },
  {
   "cell_type": "code",
   "execution_count": 3,
   "metadata": {},
   "outputs": [
    {
     "data": {
      "text/plain": [
       "_[1]=gen(1)\r\n",
       "_[2]=n3*gen(2)-6n2*gen(2)+8n*gen(2)\r\n",
       "_[3]=bn2*gen(2)-2in2*gen(2)-2bn*gen(2)+4in*gen(2)-2n2*gen(2)+4n*gen(2)\r\n",
       "_[4]=d2n2*gen(2)-2d2n*gen(2)\r\n",
       "_[5]=2idn2*gen(2)-b2n*gen(2)-4bdn*gen(2)-4idn*gen(2)+2in2*gen(2)+2dn2*gen(2)+2b2*gen(2)+8bd*gen(2)-4in*gen(2)-4dn*gen(2)\r\n",
       "_[6]=b2dn*gen(2)+4bd2n*gen(2)-2b2d*gen(2)-8bd2*gen(2)-b2n*gen(2)-4bdn*gen(2)+2in2*gen(2)+2dn2*gen(2)+2b2*gen(2)+8bd*gen(2)-4in*gen(2)-4dn*gen(2)\r\n",
       "_[7]=b2in*gen(2)+4bidn*gen(2)-2b2i*gen(2)-8bid*gen(2)-b2n*gen(2)-4bdn*gen(2)+2in2*gen(2)+4dn2*gen(2)+2b2*gen(2)+8bd*gen(2)-4in*gen(2)-8dn*gen(2)+2n2*gen(2)-4n*gen(2)\r\n",
       "_[8]=b3n*gen(2)-16bd2n*gen(2)-2b3*gen(2)+32bd2*gen(2)-4in2*gen(2)+8in*gen(2)+4n2*gen(2)-8n*gen(2)\r\n"
      ]
     },
     "execution_count": 3,
     "metadata": {},
     "output_type": "execute_result"
    }
   ],
   "source": [
    "ring r=0,(b,i,d,n),dp;\n",
    "qring rr=std(i^2+1);\n",
    "execute(read(\"lincat.sing\"));\n",
    "addParts(4,b*gen(2)+(-b+n)*gen(10)+(b-n*(1+i))*gen(6)+(-b+n*i)*gen(3)-i*gen(5)-gen(11)+i*gen(14)+gen(12)+d*(gen(8)-gen(13)));\n",
    "addTensors();\n",
    "C[2];"
   ]
  },
  {
   "cell_type": "markdown",
   "metadata": {},
   "source": [
    "In this case, $\\mathsf{ab}\\not\\in\\mathscr{K}$ only if $\\delta\\neq 0,2,4$.\n",
    "\n",
    "Finally, the last case we are missing here is $f(x)=0$, so \n",
    "$$\\tilde p=\\tilde b(\\mathsf{aaab}-\\mathsf{abbb}+\\mathsf{abaa}-\\mathsf{aaba})+d(\\mathsf{abac}-\\mathsf{abcb}),$$"
   ]
  },
  {
   "cell_type": "code",
   "execution_count": 4,
   "metadata": {},
   "outputs": [
    {
     "data": {
      "text/plain": [
       "_[1]=gen(1)\r\n",
       "_[2]=d2n2*gen(2)+b2n*gen(2)+4bdn*gen(2)-2d2n*gen(2)-2b2*gen(2)-8bd*gen(2)\r\n"
      ]
     },
     "execution_count": 4,
     "metadata": {},
     "output_type": "execute_result"
    }
   ],
   "source": [
    "ring r=0,(b,d,n),dp;\n",
    "execute(read(\"lincat.sing\"));\n",
    "addParts(4,b*(gen(2)-gen(10)+gen(6)-gen(3))+d*(gen(8)-gen(13)));\n",
    "addTensors();\n",
    "C[2];"
   ]
  },
  {
   "cell_type": "markdown",
   "metadata": {},
   "source": [
    "So, we can see that $\\mathsf{ab}\\not\\in\\mathscr{K}$ only if\n",
    "$$0\\neq d^2\\delta^2+b^2\\delta+4bd\\delta-2d^2\\delta-2b^2+8bd.$$\n",
    "Solving this equation, we get $\\tilde b=(-2\\pm\\sqrt{4-\\delta})\\tilde d$. Note that the involution acts on~$p$ by exchanging $\\tilde b\\mapsto -\\bar{\\tilde b}$ and $\\tilde d\\mapsto -\\bar{\\tilde d}$. Thus, both $\\tilde b$ and $\\tilde d$ must be real up to scaling by a complex number. This can be achieved only for $\\delta\\le 4$.\n",
    "\n",
    "To summarize, we just derived the following proposition:\n",
    "\n",
    "**Proposition:** Consider $\\delta\\in\\mathbb{C}\\setminus(-\\infty,4]$. Let $p\\in\\mathbf{Part}_\\delta(4)$ such that $\\mathsf{ab}\\not\\in\\mathscr{K}:=\\langle p\\rangle_\\delta$ is non-easy. Then $p$ is rotationally symmetric.\n"
   ]
  },
  {
   "cell_type": "code",
   "execution_count": null,
   "metadata": {},
   "outputs": [],
   "source": []
  }
 ],
 "metadata": {
  "kernelspec": {
   "display_name": "Singular",
   "language": "singular",
   "name": "singular"
  },
  "language_info": {
   "codemirror_mode": "singular",
   "file_extension": ".singular",
   "mimetype": "text/x-singular",
   "name": "Singular"
  }
 },
 "nbformat": 4,
 "nbformat_minor": 2
}
