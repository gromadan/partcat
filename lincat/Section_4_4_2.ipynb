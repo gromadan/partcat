{
 "cells": [
  {
   "cell_type": "markdown",
   "metadata": {},
   "source": [
    "# Generator of length four, assuming $\\mathsf{abac}\\in\\mathscr{K}$\n",
    "\n",
    "We take\n",
    "$$p=a_1\\mathsf{aaaa}+a_2\\mathsf{abab}+b(\\mathsf{aaab}+\\mathsf{abbb}+\\mathsf{abaa}+\\mathsf{aaba}).$$\n",
    "We will run our algorithm for the category $\\mathscr{K}:=\\langle\\mathsf{abac},p\\rangle_\\delta$. That is:"
   ]
  },
  {
   "cell_type": "code",
   "execution_count": 1,
   "metadata": {},
   "outputs": [],
   "source": [
    "ring r=0,(a1,a2,b,n),dp;\n",
    "execute(read(\"lincat.sing\"));\n",
    "addParts(4,a1*gen(1)+a2*gen(7)+b*(gen(2)+gen(3)+gen(6)+gen(10)));\n",
    "addParts(4,gen(8));\n",
    "addTensors();"
   ]
  },
  {
   "cell_type": "code",
   "execution_count": 2,
   "metadata": {},
   "outputs": [
    {
     "data": {
      "text/plain": [
       "_[1]=gen(4)\r\n",
       "_[2]=gen(5)\r\n",
       "_[3]=gen(8)\r\n",
       "_[4]=gen(9)\r\n",
       "_[5]=gen(11)\r\n",
       "_[6]=gen(12)\r\n",
       "_[7]=gen(13)\r\n",
       "_[8]=gen(14)\r\n",
       "_[9]=gen(15)\r\n",
       "_[10]=a1*gen(1)+a2*gen(7)+b*gen(10)+b*gen(6)+b*gen(3)+b*gen(2)\r\n",
       "_[11]=b*n*gen(2)+a1*gen(2)\r\n",
       "_[12]=b*n*gen(3)+a1*gen(3)\r\n",
       "_[13]=b*n*gen(6)+a1*gen(6)\r\n",
       "_[14]=b*n*gen(10)+a1*gen(10)\r\n",
       "_[15]=2*b^2*n*gen(1)-a1*a2*gen(7)-2*a2^2*gen(7)-4*a2*b*gen(7)-2*b^2*gen(10)-2*b^2*gen(6)-2*b^2*gen(3)-2*b^2*gen(2)\r\n",
       "_[16]=a1*a2*n*gen(7)+2*a2^2*n*gen(7)-2*a1*a2*gen(7)\r\n",
       "_[17]=2*a2*b^2*n*gen(7)+a1^2*a2*gen(7)+2*a1*a2^2*gen(7)+4*a1*a2*b*gen(7)\r\n",
       "_[18]=a1^3*a2*gen(7)+4*a1^2*a2^2*gen(7)+4*a1*a2^3*gen(7)+4*a1^2*a2*b*gen(7)+8*a1*a2^2*b*gen(7)+4*a1*a2*b^2*gen(7)\r\n"
      ]
     },
     "execution_count": 2,
     "metadata": {},
     "output_type": "execute_result"
    }
   ],
   "source": [
    "C[4];"
   ]
  },
  {
   "cell_type": "markdown",
   "metadata": {},
   "source": [
    "First thing to note is that unless $a_1=-b\\delta$, we have $\\mathsf{aaab}\\in\\mathscr{K}$. So let us check this option first."
   ]
  },
  {
   "cell_type": "code",
   "execution_count": 3,
   "metadata": {},
   "outputs": [],
   "source": [
    "ring r=0,(a1,a2,n),dp;\n",
    "execute(read(\"lincat.sing\"));\n",
    "addParts(4,a1*gen(1)+a2*gen(7));\n",
    "addParts(4,gen(8));\n",
    "addParts(4,gen(2));\n",
    "addTensors();"
   ]
  },
  {
   "cell_type": "code",
   "execution_count": 4,
   "metadata": {},
   "outputs": [
    {
     "data": {
      "text/plain": [
       "_[1]=gen(2)\r\n",
       "_[2]=gen(3)\r\n",
       "_[3]=gen(4)\r\n",
       "_[4]=gen(5)\r\n",
       "_[5]=gen(6)\r\n",
       "_[6]=gen(8)\r\n",
       "_[7]=gen(9)\r\n",
       "_[8]=gen(10)\r\n",
       "_[9]=gen(11)\r\n",
       "_[10]=gen(12)\r\n",
       "_[11]=gen(13)\r\n",
       "_[12]=gen(14)\r\n",
       "_[13]=gen(15)\r\n",
       "_[14]=n*gen(1)\r\n",
       "_[15]=a2*gen(7)\r\n",
       "_[16]=a1*gen(1)\r\n"
      ]
     },
     "execution_count": 4,
     "metadata": {},
     "output_type": "execute_result"
    }
   ],
   "source": [
    "C[4];"
   ]
  },
  {
   "cell_type": "markdown",
   "metadata": {},
   "source": [
    "This category is always easy. So, assume $a_1=-b\\delta$ now."
   ]
  },
  {
   "cell_type": "code",
   "execution_count": 5,
   "metadata": {},
   "outputs": [],
   "source": [
    "ring r=0,(a2,b,n),dp;\n",
    "execute(read(\"lincat.sing\"));\n",
    "addParts(4,-b*n*gen(1)+a2*gen(7)+b*(gen(2)+gen(3)+gen(6)+gen(10)));\n",
    "addParts(4,gen(8));\n",
    "addTensors();"
   ]
  },
  {
   "cell_type": "code",
   "execution_count": 6,
   "metadata": {},
   "outputs": [
    {
     "data": {
      "text/plain": [
       "_[1]=gen(4)\r\n",
       "_[2]=gen(5)\r\n",
       "_[3]=gen(8)\r\n",
       "_[4]=gen(9)\r\n",
       "_[5]=gen(11)\r\n",
       "_[6]=gen(12)\r\n",
       "_[7]=gen(13)\r\n",
       "_[8]=gen(14)\r\n",
       "_[9]=gen(15)\r\n",
       "_[10]=b*n*gen(1)-a2*gen(7)-b*gen(10)-b*gen(6)-b*gen(3)-b*gen(2)\r\n",
       "_[11]=a2*b*n*gen(7)-2*a2^2*gen(7)-2*a2*b*gen(7)\r\n"
      ]
     },
     "execution_count": 6,
     "metadata": {},
     "output_type": "execute_result"
    }
   ],
   "source": [
    "C[4];"
   ]
  },
  {
   "cell_type": "code",
   "execution_count": 7,
   "metadata": {},
   "outputs": [
    {
     "data": {
      "text/plain": [
       "_[1]=gen(4)\r\n",
       "_[2]=gen(5)\r\n",
       "_[3]=gen(8)\r\n",
       "_[4]=gen(9)\r\n",
       "_[5]=gen(11)\r\n",
       "_[6]=gen(12)\r\n",
       "_[7]=gen(13)\r\n",
       "_[8]=gen(14)\r\n",
       "_[9]=gen(15)\r\n",
       "_[10]=b*n*gen(1)-a2*gen(7)-b*gen(10)-b*gen(6)-b*gen(3)-b*gen(2)\r\n",
       "_[11]=a2*b*n*gen(7)-2*a2^2*gen(7)-2*a2*b*gen(7)\r\n"
      ]
     },
     "execution_count": 7,
     "metadata": {},
     "output_type": "execute_result"
    }
   ],
   "source": [
    "addTensors();\n",
    "addTensors();\n",
    "C[4];"
   ]
  },
  {
   "cell_type": "markdown",
   "metadata": {},
   "source": [
    "So, this category appears to be non-easy even after several iterations of `addTensors` (assuming, of course, that $b\\neq 0$).\n",
    "\n",
    "Now, the question might be, whether the categories are mutually distinct for distinct pairs of parameters $a_2$ and $b$. We can see that $\\mathsf{abab}\\in\\mathscr{K}$ whenever the element `_[11]` is non-zero. This holds if\n",
    "$$a_2\\neq 0\\quad\\hbox{and}\\quad 2a_2\\neq b(\\delta-2).$$\n",
    "Let us denote $p_1:=-\\delta\\,\\mathsf{aaaa}+(\\mathsf{aaab}+\\mathsf{abbb}+\\mathsf{abaa}+\\mathsf{aaba})$. Then we can say that\n",
    "$$\\mathscr{K}=\\cases{\n",
    "\\langle p_1\\rangle&if $a_2=0$,\\cr\n",
    "\\langle 2p_1+(\\delta-2)\\,\\mathsf{abab}\\rangle&if $2a_2=b(\\delta-2)$,\\cr\n",
    "\\langle p_1,\\mathsf{abab}\\rangle&otherwise.}$$\n",
    "\n",
    "It [can actually be shown](../plin/Remark_4_13.ipynb) that also the second category contains $\\mathsf{abab}$ and hence equals the last one. Our algorithm would detect that only if we chose length bound at least $l_0=10$."
   ]
  },
  {
   "cell_type": "code",
   "execution_count": null,
   "metadata": {},
   "outputs": [],
   "source": []
  }
 ],
 "metadata": {
  "kernelspec": {
   "display_name": "Singular",
   "language": "singular",
   "name": "singular"
  },
  "language_info": {
   "codemirror_mode": "singular",
   "file_extension": ".singular",
   "mimetype": "text/x-singular",
   "name": "Singular"
  }
 },
 "nbformat": 4,
 "nbformat_minor": 2
}
