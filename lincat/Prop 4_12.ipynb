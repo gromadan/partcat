{
 "cells": [
  {
   "cell_type": "markdown",
   "metadata": {},
   "source": [
    "\n",
    "**Proposition** Consider $\\delta\\in\\mathbb{C}\\setminus\\{0,2\\}$. Let $p$ be of the form\n",
    "$$p=a_1\\mathsf{aaaa}+a_2\\mathsf{abab}+b_1\\mathsf{aaab}+b_2\\mathsf{abbb}+b_3\\mathsf{abaa}+b_4\\mathsf{aaba}+d_1\\mathsf{abac}+d_2\\mathsf{abcb}.$$\n",
    "Suppose $\\mathscr{K}:=\\langle \\mathsf{ab}, p\\rangle_\\delta$ is non-easy. Then $p$ is rotationally symmetric.\n",
    "\n",
    "**Proof:** Assume\n",
    "$$0\\neq(R-1)p=:\\tilde p=\\tilde b_1\\mathsf{aaab}+\\tilde b_2\\mathsf{abbb}+\\tilde b_3\\mathsf{abaa}-(\\tilde b_1+\\tilde b_2+\\tilde b_3)\\mathsf{aaba}+d(\\mathsf{abac}-\\mathsf{abcb}).$$\n",
    "We will prove that $\\langle\\tilde p,\\mathsf{ab}\\rangle_\\delta=\\langle\\mathsf{aaab},\\mathsf{abac}\\rangle_\\delta$ (which contains all partitions on four points except for $\\mathsf{abab}$). This already implies that $\\langle p,\\mathsf{ab}\\rangle_\\delta$ either equals to $\\langle\\mathsf{aaab},\\mathsf{abac}\\rangle_\\delta$ or to $\\langle\\mathsf{aaab},\\mathsf{abac},\\mathsf{abab}\\rangle_\\delta$, so it is easy.\n",
    "\n",
    "Recall the partition coding table\n",
    "\n",
    "Partition | Assoicated basis vector\n",
    "----------|------------------     \n",
    "     aааа | gen(1)\n",
    "     aaab | gen(2)\n",
    "     aaba | gen(3)\n",
    "     aabb | gen(4)\n",
    "     aabc | gen(5)\n",
    "     abaa | gen(6)\n",
    "     abab | gen(7)\n",
    "     abac | gen(8)\n",
    "     abba | gen(9)\n",
    "     abbb | gen(10)\n",
    "     abbc | gen(11)\n",
    "     abca | gen(12)\n",
    "     abcb | gen(13)\n",
    "     abcc | gen(14)\n",
    "     abcd | gen(15)"
   ]
  },
  {
   "cell_type": "code",
   "execution_count": 6,
   "metadata": {},
   "outputs": [],
   "source": [
    "ring r=0,(b1,b2,b3,d,n),dp;\n",
    "execute(read(\"lincat.sing\"));\n",
    "addParts(4,b1*gen(2)+b2*gen(10)+b3*gen(6)-(b1+b2+b3)*gen(3)+d*(gen(8)-gen(13)));\n",
    "addParts(2,gen(2));\n",
    "addTensors();"
   ]
  },
  {
   "cell_type": "code",
   "execution_count": 7,
   "metadata": {},
   "outputs": [
    {
     "data": {
      "text/plain": [
       "_[1]=gen(4)\r\n",
       "_[2]=gen(5)\r\n",
       "_[3]=gen(9)\r\n",
       "_[4]=gen(11)\r\n",
       "_[5]=gen(12)\r\n",
       "_[6]=gen(14)\r\n",
       "_[7]=gen(15)\r\n",
       "_[8]=b1*gen(3)-b1*gen(2)-b2*gen(10)+b2*gen(3)-b3*gen(6)+b3*gen(3)+d*gen(13)-d*gen(8)\r\n",
       "_[9]=b1*gen(6)-b1*gen(2)-b2*gen(10)+b2*gen(6)+b2*gen(3)-b2*gen(2)-b3*gen(10)+b3*gen(3)\r\n",
       "_[10]=b1*gen(10)-b1*gen(2)+b2*gen(6)-b2*gen(2)+b3*gen(3)-b3*gen(2)+d*gen(13)-d*gen(8)\r\n",
       "_[11]=d*n*gen(13)-d*n*gen(8)+b1*gen(13)-b1*gen(8)+b3*gen(13)-b3*gen(8)\r\n",
       "_[12]=b3*n*gen(2)+d*n*gen(8)+b1*gen(8)\r\n",
       "_[13]=b3*n*gen(3)+d*n*gen(8)+b1*gen(8)-b3*gen(13)+b3*gen(8)\r\n",
       "_[14]=b3*n*gen(6)+d*n*gen(8)+b1*gen(8)\r\n",
       "_[15]=b3*n*gen(10)+d*n*gen(8)+b1*gen(8)-b3*gen(13)+b3*gen(8)\r\n",
       "_[16]=b2*n*gen(2)-d*n*gen(8)-b1*gen(8)-b2*gen(8)-b3*gen(8)\r\n",
       "_[17]=b2*n*gen(3)-d*n*gen(8)-b1*gen(8)-b2*gen(13)-b3*gen(8)\r\n",
       "_[18]=b2*n*gen(6)-d*n*gen(8)-b1*gen(8)-b2*gen(8)-b3*gen(8)\r\n",
       "_[19]=b2*n*gen(10)-d*n*gen(8)-b1*gen(8)-b2*gen(13)-b3*gen(8)\r\n",
       "_[20]=b1*n*gen(2)+d*n*gen(8)+b3*gen(8)\r\n",
       "_[21]=b1*b3*gen(13)-b1*b3*gen(8)+2*b2*b3*gen(13)-2*b2*b3*gen(10)-2*b2*b3*gen(8)+2*b2*b3*gen(6)-2*b2*b3*gen(3)+2*b2*b3*gen(2)+b3^2*gen(13)-b3^2*gen(8)+2*b3*d*gen(13)-2*b3*d*gen(8)\r\n",
       "_[22]=b2^2*gen(6)-b2^2*gen(2)-b2*b3*gen(10)+b2*b3*gen(6)+b2*b3*gen(3)-b2*b3*gen(2)-b3^2*gen(10)+b3^2*gen(3)\r\n",
       "_[23]=b2^2*gen(10)-b2^2*gen(3)+b2*b3*gen(10)+b2*b3*gen(6)-b2*b3*gen(3)-b2*b3*gen(2)+b3^2*gen(6)-b3^2*gen(2)\r\n",
       "_[24]=b2^2*gen(13)-b2^2*gen(8)-2*b2^2*gen(3)+2*b2^2*gen(2)+2*b2*b3*gen(10)-2*b2*b3*gen(3)-b3^2*gen(13)+2*b3^2*gen(10)+b3^2*gen(8)-2*b3^2*gen(2)\r\n",
       "_[25]=b1*b2*gen(13)-b1*b2*gen(8)-b2*b3*gen(13)+2*b2*b3*gen(10)+b2*b3*gen(8)-2*b2*b3*gen(6)+2*b2*b3*gen(3)-2*b2*b3*gen(2)+2*b2*d*gen(13)-2*b2*d*gen(8)\r\n",
       "_[26]=b1^2*gen(8)-2*b1^2*gen(2)+2*b1*b2*gen(8)-4*b1*b2*gen(2)+2*b2^2*gen(8)-4*b2^2*gen(2)+2*b2*b3*gen(13)-2*b2*b3*gen(10)+2*b2*b3*gen(6)-2*b2*b3*gen(3)-2*b2*b3*gen(2)+2*b3^2*gen(13)-2*b3^2*gen(10)-b3^2*gen(8)+2*b3^2*gen(6)-2*b3^2*gen(3)\r\n",
       "_[27]=b1^2*gen(13)-2*b1^2*gen(2)+2*b1*b2*gen(8)-4*b1*b2*gen(2)+2*b2^2*gen(8)-4*b2^2*gen(2)+2*b2*b3*gen(13)-2*b2*b3*gen(10)+2*b2*b3*gen(6)-2*b2*b3*gen(3)-2*b2*b3*gen(2)+b3^2*gen(13)-2*b3^2*gen(10)+2*b3^2*gen(6)-2*b3^2*gen(3)+2*b1*d*gen(13)-2*b1*d*gen(8)-2*b3*d*gen(13)+2*b3*d*gen(8)\r\n",
       "_[28]=d*n^2*gen(8)+b1*n*gen(8)+b3*n*gen(8)\r\n",
       "_[29]=b3*d*n*gen(8)+b1*b3*gen(8)+b3^2*gen(8)\r\n",
       "_[30]=b2*d*n*gen(8)+b1*b2*gen(8)+b2*b3*gen(8)\r\n",
       "_[31]=b1*d*n*gen(8)+2*b1^2*gen(2)-2*b1*b2*gen(8)+4*b1*b2*gen(2)-2*b2^2*gen(8)+4*b2^2*gen(2)+b1*b3*gen(8)-2*b2*b3*gen(13)+2*b2*b3*gen(10)-2*b2*b3*gen(6)+2*b2*b3*gen(3)+2*b2*b3*gen(2)-2*b3^2*gen(13)+2*b3^2*gen(10)+b3^2*gen(8)-2*b3^2*gen(6)+2*b3^2*gen(3)\r\n",
       "_[32]=b3^2*n*gen(8)-2*b3^2*gen(8)\r\n",
       "_[33]=b3^2*n*gen(13)-2*b3^2*gen(13)\r\n",
       "_[34]=2*b2*b3*n*gen(1)+4*d^2*n*gen(8)+4*b1^2*gen(2)-2*b1*b2*gen(8)+8*b1*b2*gen(2)-3*b2^2*gen(8)+6*b2^2*gen(2)+2*b1*b3*gen(8)-4*b2*b3*gen(13)+2*b2*b3*gen(10)+2*b2*b3*gen(8)-4*b2*b3*gen(6)+4*b2*b3*gen(3)+2*b2*b3*gen(2)-3*b3^2*gen(13)+2*b3^2*gen(10)+2*b3^2*gen(8)-4*b3^2*gen(6)+4*b3^2*gen(3)+8*b1*d*gen(8)+4*b2*d*gen(8)+4*b3*d*gen(8)\r\n",
       "_[35]=b2*b3*n*gen(8)-2*b2*b3*gen(8)\r\n",
       "_[36]=b2*b3*n*gen(13)-2*b2*b3*gen(13)\r\n",
       "_[37]=b1*b3*n*gen(1)+b3^2*n*gen(1)-4*d^2*n*gen(8)-2*b1^2*gen(2)+2*b1*b2*gen(8)-4*b1*b2*gen(2)+2*b2^2*gen(8)-4*b2^2*gen(2)-b1*b3*gen(8)+3*b2*b3*gen(13)-3*b2*b3*gen(10)-b2*b3*gen(8)+3*b2*b3*gen(6)-3*b2*b3*gen(3)-b2*b3*gen(2)+2*b3^2*gen(13)-2*b3^2*gen(10)-b3^2*gen(8)+2*b3^2*gen(6)-2*b3^2*gen(3)-6*b1*d*gen(8)+b3*d*gen(13)-3*b3*d*gen(8)\r\n",
       "_[38]=b1*b3*n*gen(8)-2*b1*b3*gen(8)\r\n",
       "_[39]=b2^2*n*gen(1)-b3^2*n*gen(1)-b1*b2*gen(8)-2*b1*b2*gen(2)-b2^2*gen(3)-b2^2*gen(2)-b1*b3*gen(8)-2*b1*b3*gen(2)-b2*b3*gen(8)+b2*b3*gen(6)-3*b2*b3*gen(2)-b3^2*gen(8)+b3^2*gen(6)+b3^2*gen(3)-2*b3^2*gen(2)-4*b2*d*gen(8)-4*b3*d*gen(8)\r\n",
       "_[40]=b2^2*n*gen(8)-2*b2^2*gen(8)\r\n",
       "_[41]=2*b1*b2*n*gen(1)+4*d^2*n*gen(8)-b2^2*gen(8)+2*b2^2*gen(2)+2*b1*b3*gen(8)-2*b2*b3*gen(13)+4*b2*b3*gen(10)+2*b2*b3*gen(8)-2*b2*b3*gen(6)+2*b2*b3*gen(3)-b3^2*gen(13)+2*b3^2*gen(10)+2*b3^2*gen(8)+4*b1*d*gen(8)+2*b2*d*gen(13)+2*b2*d*gen(8)+8*b3*d*gen(8)\r\n",
       "_[42]=b1*b2*n*gen(8)-2*b1*b2*gen(8)\r\n",
       "_[43]=b1^2*n*gen(1)-b3^2*n*gen(1)+2*b1^2*gen(2)-2*b1*b2*gen(8)+4*b1*b2*gen(2)-2*b2^2*gen(8)+4*b2^2*gen(2)-2*b2*b3*gen(13)+2*b2*b3*gen(10)-2*b2*b3*gen(6)+2*b2*b3*gen(3)+2*b2*b3*gen(2)-2*b3^2*gen(13)+2*b3^2*gen(10)-2*b3^2*gen(6)+2*b3^2*gen(3)+b1*d*gen(13)+3*b1*d*gen(8)-b3*d*gen(13)-3*b3*d*gen(8)\r\n",
       "_[44]=b3^3*gen(13)-b3^3*gen(10)-b3^3*gen(8)+b3^3*gen(6)-b3^3*gen(3)+b3^3*gen(2)\r\n",
       "_[45]=b2*b3^2*gen(13)-b2*b3^2*gen(10)-b2*b3^2*gen(8)+b2*b3^2*gen(6)-b2*b3^2*gen(3)+b2*b3^2*gen(2)\r\n",
       "_[46]=b1*b3^2*gen(8)+b3^3*gen(8)+2*b3^2*d*gen(8)\r\n",
       "_[47]=b1*b2*b3*gen(8)+b2*b3^2*gen(8)+2*b2*b3*d*gen(8)\r\n",
       "_[48]=b1^2*b3*gen(2)+2*b1*b2*b3*gen(2)-b2^2*b3*gen(8)+2*b2^2*b3*gen(2)+2*b2*b3^2*gen(2)-b3^3*gen(8)+b3^3*gen(2)+b1*b3*d*gen(8)+2*b2*b3*d*gen(8)-b3^2*d*gen(8)\r\n",
       "_[49]=b2^3*gen(8)-2*b2^3*gen(2)+2*b1*b2*b3*gen(2)+b2^2*b3*gen(8)-2*b2^2*b3*gen(2)+2*b1*b3^2*gen(2)+b2*b3^2*gen(8)+b3^3*gen(8)+2*b2*b3*d*gen(8)+2*b3^2*d*gen(8)\r\n",
       "_[50]=b1*b2^2*gen(2)+2*b1*b2*b3*gen(2)+b2^2*b3*gen(2)+b1*b3^2*gen(2)+2*b2*b3^2*gen(2)+b3^3*gen(2)+b2^2*d*gen(8)+2*b2*b3*d*gen(8)+b3^2*d*gen(8)\r\n",
       "_[51]=b1*b2^2*gen(8)+b2^2*b3*gen(8)+2*b2^2*d*gen(8)\r\n",
       "_[52]=b1^2*b2*gen(2)-2*b1*b2*b3*gen(2)+b2^2*b3*gen(8)-2*b2^2*b3*gen(2)-3*b2*b3^2*gen(2)+b3^3*gen(8)-2*b3^3*gen(2)+b1*b2*d*gen(8)-3*b2*b3*d*gen(8)\r\n",
       "_[53]=b1^3*gen(2)+2*b1*b2*b3*gen(2)-b2^2*b3*gen(8)+2*b2^2*b3*gen(2)-b1*b3^2*gen(2)+2*b2*b3^2*gen(2)-b3^3*gen(8)+2*b3^3*gen(2)+2*b1^2*d*gen(2)-2*b1*b2*d*gen(8)+4*b1*b2*d*gen(2)-2*b2^2*d*gen(8)+4*b2^2*d*gen(2)-b1*b3*d*gen(8)-2*b2*b3*d*gen(13)+2*b2*b3*d*gen(10)+2*b2*b3*d*gen(8)-2*b2*b3*d*gen(6)+2*b2*b3*d*gen(3)+2*b2*b3*d*gen(2)-2*b3^2*d*gen(13)+2*b3^2*d*gen(10)+b3^2*d*gen(8)-2*b3^2*d*gen(6)+2*b3^2*d*gen(3)\r\n",
       "_[54]=b3^2*n^2*gen(1)-b3^2*gen(13)-b3^2*gen(8)\r\n",
       "_[55]=2*b3^3*n*gen(1)+2*b1*b2*b3*gen(2)-b2^2*b3*gen(8)+2*b2^2*b3*gen(2)+2*b1*b3^2*gen(2)+b2*b3^2*gen(10)-b2*b3^2*gen(6)-b2*b3^2*gen(3)+3*b2*b3^2*gen(2)-b3^3*gen(8)-2*b3^3*gen(3)+2*b3^3*gen(2)+2*b2*b3*d*gen(8)+2*b3^2*d*gen(8)\r\n"
      ]
     },
     "execution_count": 7,
     "metadata": {},
     "output_type": "execute_result"
    }
   ],
   "source": [
    "C[4];"
   ]
  },
  {
   "cell_type": "markdown",
   "metadata": {},
   "source": [
    "From elements `_[32]`, `_[40]` it is clear that $\\mathsf{abac}\\not\\in\\langle\\tilde p\\rangle_\\delta$ only if $\\delta=2$ or if $\\tilde b_2=\\tilde b_3=0$. So, let us assume that $\\delta\\neq 2$. From symmetry, it is clear that we must also have $\\tilde b_1=0$ and from `_[28]`, we have that also $d=0$, so this means that $\\tilde p=0$, which contradicts our assumption.\n",
    "\n",
    "So, we have just proven that $\\mathsf{abac}\\in\\langle\\tilde p\\rangle_\\delta$ for any $\\tilde p$ of the above given form assuming that $\\delta\\neq 2$. Now, we also want to prove that $\\mathsf{aaab}\\in\\langle\\tilde p\\rangle_\\delta$."
   ]
  },
  {
   "cell_type": "code",
   "execution_count": 10,
   "metadata": {},
   "outputs": [],
   "source": [
    "ring r=0,(b1,b2,b3,n),dp;\n",
    "execute(read(\"lincat.sing\"));\n",
    "addParts(4,b1*gen(2)+b2*gen(10)+b3*gen(6)-(b1+b2+b3)*gen(3)));\n",
    "addParts(4,gen(8));\n",
    "addTensors();"
   ]
  },
  {
   "cell_type": "code",
   "execution_count": 11,
   "metadata": {},
   "outputs": [
    {
     "data": {
      "text/plain": [
       "_[1]=gen(4)\r\n",
       "_[2]=gen(5)\r\n",
       "_[3]=gen(8)\r\n",
       "_[4]=gen(9)\r\n",
       "_[5]=gen(11)\r\n",
       "_[6]=gen(12)\r\n",
       "_[7]=gen(13)\r\n",
       "_[8]=gen(14)\r\n",
       "_[9]=gen(15)\r\n",
       "_[10]=b1*gen(3)-b1*gen(2)-b2*gen(10)+b2*gen(3)-b3*gen(6)+b3*gen(3)\r\n",
       "_[11]=b1*gen(6)-b1*gen(2)-b2*gen(10)+b2*gen(6)+b2*gen(3)-b2*gen(2)-b3*gen(10)+b3*gen(3)\r\n",
       "_[12]=b1*gen(10)-b1*gen(2)+b2*gen(6)-b2*gen(2)+b3*gen(3)-b3*gen(2)\r\n",
       "_[13]=b3*n*gen(2)\r\n",
       "_[14]=b3*n*gen(3)\r\n",
       "_[15]=b3*n*gen(6)\r\n",
       "_[16]=b3*n*gen(10)\r\n",
       "_[17]=b2*n*gen(2)\r\n",
       "_[18]=b2*n*gen(3)\r\n",
       "_[19]=b2*n*gen(6)\r\n",
       "_[20]=b2*n*gen(10)\r\n",
       "_[21]=b1*n*gen(2)\r\n",
       "_[22]=b2*b3*gen(10)-b2*b3*gen(6)+b2*b3*gen(3)-b2*b3*gen(2)\r\n",
       "_[23]=b2^2*gen(3)-b2^2*gen(2)-b2*b3*gen(6)+2*b2*b3*gen(3)-b2*b3*gen(2)-b3^2*gen(10)+b3^2*gen(2)\r\n",
       "_[24]=b2^2*gen(6)-b2^2*gen(2)+2*b2*b3*gen(3)-2*b2*b3*gen(2)-b3^2*gen(10)+b3^2*gen(3)\r\n",
       "_[25]=b2^2*gen(10)-b2^2*gen(2)+b2*b3*gen(6)-b2*b3*gen(2)-b3^2*gen(10)+b3^2*gen(6)\r\n",
       "_[26]=b1^2*gen(2)+2*b1*b2*gen(2)+2*b2^2*gen(2)+2*b2*b3*gen(2)+b3^2*gen(10)-b3^2*gen(6)+b3^2*gen(3)\r\n",
       "_[27]=b2*b3*n*gen(1)-b2^2*gen(2)-b2*b3*gen(6)+b2*b3*gen(3)-2*b2*b3*gen(2)-b3^2*gen(10)\r\n",
       "_[28]=b1*b3*n*gen(1)+b3^2*n*gen(1)\r\n",
       "_[29]=b2^2*n*gen(1)-b3^2*n*gen(1)-2*b1*b2*gen(2)-2*b2^2*gen(2)-2*b1*b3*gen(2)+2*b2*b3*gen(3)-4*b2*b3*gen(2)-b3^2*gen(10)+b3^2*gen(6)+b3^2*gen(3)-b3^2*gen(2)\r\n",
       "_[30]=b1*b2*n*gen(1)+b2^2*gen(2)+b2*b3*gen(6)-b2*b3*gen(3)+2*b2*b3*gen(2)+b3^2*gen(10)\r\n",
       "_[31]=b1^2*n*gen(1)-b3^2*n*gen(1)\r\n",
       "_[32]=b3^3*gen(10)-b3^3*gen(6)+b3^3*gen(3)-b3^3*gen(2)\r\n",
       "_[33]=b2^3*gen(2)-b1*b2*b3*gen(2)+b2^2*b3*gen(2)-b1*b3^2*gen(2)\r\n",
       "_[34]=b1*b2^2*gen(2)+2*b1*b2*b3*gen(2)+b2^2*b3*gen(2)+b1*b3^2*gen(2)+2*b2*b3^2*gen(2)+b3^3*gen(2)\r\n",
       "_[35]=b3^2*n^2*gen(1)\r\n",
       "_[36]=b3^3*n*gen(1)-b2^3*gen(2)+2*b1*b2*b3*gen(2)+2*b1*b3^2*gen(2)-b2*b3^2*gen(3)+2*b2*b3^2*gen(2)-b3^3*gen(3)+b3^3*gen(2)\r\n"
      ]
     },
     "execution_count": 11,
     "metadata": {},
     "output_type": "execute_result"
    }
   ],
   "source": [
    "C[4];"
   ]
  },
  {
   "cell_type": "markdown",
   "metadata": {},
   "source": [
    "From the computation above, we see (lines `_[13]`, `_[17]`, `_[21]`) that indeed $\\mathsf{aaab}\\in\\langle\\tilde p\\rangle_\\delta$ unless $\\delta=0$ or $\\tilde b_1=\\tilde b_2=\\tilde b_3=0$."
   ]
  },
  {
   "cell_type": "code",
   "execution_count": null,
   "metadata": {},
   "outputs": [],
   "source": []
  }
 ],
 "metadata": {
  "kernelspec": {
   "display_name": "Singular",
   "language": "singular",
   "name": "singular"
  },
  "language_info": {
   "codemirror_mode": "singular",
   "file_extension": ".singular",
   "mimetype": "text/x-singular",
   "name": "Singular"
  }
 },
 "nbformat": 4,
 "nbformat_minor": 2
}
