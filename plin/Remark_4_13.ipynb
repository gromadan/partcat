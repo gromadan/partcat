{
 "cells": [
  {
   "cell_type": "markdown",
   "metadata": {},
   "source": [
    "In this computation, we are going to study the following linear combination of partitions\n",
    "$$p=2\\delta p_1+(2-\\delta)p_2=2\\delta\\,\\mathsf{aaaa}+(2-\\delta)\\mathsf{abab}-2(\\mathsf{aaab}+\\mathsf{abbb}+\\mathsf{abaa}+\\mathsf{aaba})+\\mathsf{abac}+\\mathsf{abcb},$$\n",
    "where we denote\n",
    "$$\\eqalign{\n",
    "p_1&=\\mathsf{aaaa}-{1\\over\\delta}(\\mathsf{aaab}+\\mathsf{abbb}+\\mathsf{abaa}+\\mathsf{aaba})+{1\\over\\delta^2}(\\mathsf{abac}+\\mathsf{abcb}),\\cr\n",
    "p_2&=\\mathsf{abab}-{1\\over\\delta}(\\mathsf{abac}+\\mathsf{abcb}).\n",
    "}$$\n",
    "Obviously $\\langle p\\rangle_\\delta\\subseteq\\langle p_1,p_2\\rangle_\\delta$.\n",
    "\n",
    "**Question:** Does it hold that $\\langle p\\rangle_\\delta=\\langle p_1,p_2\\rangle_\\delta$?"
   ]
  },
  {
   "cell_type": "code",
   "execution_count": 1,
   "metadata": {},
   "outputs": [],
   "source": [
    "LIB \"plin.lib\";\n",
    "plin_init();"
   ]
  },
  {
   "cell_type": "code",
   "execution_count": 2,
   "metadata": {},
   "outputs": [],
   "source": [
    "ring r=0,(n),dp;"
   ]
  },
  {
   "cell_type": "code",
   "execution_count": 3,
   "metadata": {},
   "outputs": [
    {
     "data": {
      "text/plain": [
       "[1]:\r\n",
       "   (1)*(1,1,1,1)\r\n",
       "\r\n",
       "[2]:\r\n",
       "   (1)*(1,1,1,2)+(1)*(1,2,2,2)+(1)*(1,2,1,1)+(1)*(1,1,2,1)\r\n",
       "\r\n",
       "[3]:\r\n",
       "   (1)*(1,1,2,2)+(1)*(1,2,2,1)\r\n",
       "\r\n",
       "[4]:\r\n",
       "   (1)*(1,1,2,3)+(1)*(1,2,2,3)+(1)*(1,2,3,3)+(1)*(1,2,3,1)\r\n",
       "\r\n",
       "[5]:\r\n",
       "   (1)*(1,2,1,2)\r\n",
       "\r\n",
       "[6]:\r\n",
       "   (1)*(1,2,1,3)+(1)*(1,2,3,2)\r\n",
       "\r\n",
       "[7]:\r\n",
       "   (1)*(1,2,3,4)\r\n",
       "\r\n"
      ]
     },
     "execution_count": 3,
     "metadata": {},
     "output_type": "execute_result"
    }
   ],
   "source": [
    "list l=plin_genclasses(4);\n",
    "l;"
   ]
  },
  {
   "cell_type": "code",
   "execution_count": 4,
   "metadata": {},
   "outputs": [],
   "source": [
    "plin p=2*n*l[1]+(2-n)*l[5]-2*l[2]+l[6];"
   ]
  },
  {
   "cell_type": "markdown",
   "metadata": {},
   "source": [
    "Now we perform a series of one-line category operations (tensor product, contraction, rotation) with the partition $p$."
   ]
  },
  {
   "cell_type": "code",
   "execution_count": 5,
   "metadata": {},
   "outputs": [],
   "source": [
    "plin q=plin_tensor(p,p);\n",
    "q=plin_cont(q,4);\n",
    "q=plin_rotn(q,2);\n",
    "q=plin_tensor(q,p);\n",
    "q=plin_rotn(q,-1);\n",
    "q=plin_cont(q,5);\n",
    "q=plin_cont(q,4);\n",
    "q=plin_tensor(p,q);\n",
    "q=plin_cont(q,4);\n",
    "q=plin_cont(q,3);\n",
    "q=plin_tensor(q,p);\n",
    "q=plin_cont(q,6);\n",
    "q=plin_cont(q,5);\n",
    "q=plin_cont(q,0);"
   ]
  },
  {
   "cell_type": "code",
   "execution_count": 6,
   "metadata": {},
   "outputs": [
    {
     "data": {
      "text/plain": [
       "(2n6-18n5+48n4-48n3+96n2-64n)*(1,1,1,1)+(-2n5+18n4-48n3+48n2-96n+64)*(1,1,1,2)+(-2n5+18n4-48n3+48n2-96n+64)*(1,1,2,1)+(2n4-18n3+40n2-16n+96)*(1,1,2,3)+(-n6+11n5-50n4+144n3-304n2+320n-64)*(1,2,1,2)+(-2n5+18n4-48n3+48n2-96n+64)*(1,2,1,1)+(n5-9n4+32n3-96n2+256n-224)*(1,2,1,3)+(n5-9n4+32n3-96n2+256n-224)*(1,2,3,2)+(2n4-18n3+40n2-16n+96)*(1,2,3,1)+(-n4+6n3-16n2+128n-384)*(1,2,3,4)+(-2n5+18n4-48n3+48n2-96n+64)*(1,2,2,2)+(16n3-112n2+256n-320)*(1,2,2,1)+(2n4-18n3+40n2-16n+96)*(1,2,2,3)+(16n3-112n2+256n-320)*(1,1,2,2)+(2n4-18n3+40n2-16n+96)*(1,2,3,3)\r\n",
       "\r\n"
      ]
     },
     "execution_count": 6,
     "metadata": {},
     "output_type": "execute_result"
    }
   ],
   "source": [
    "q;"
   ]
  },
  {
   "cell_type": "markdown",
   "metadata": {},
   "source": [
    "We claim that $q$ equals to\n",
    "$$q'=(2\\delta^5-18\\delta^4+48\\delta^3-48\\delta^2+96\\delta-64)\\delta p_1+(-\\delta^6+11\\delta^5-50\\delta^4+144\\delta^3-304\\delta^2+320\\delta-64)p_2$$\n",
    "up to some elements of $\\langle\\mathsf{ab}\\rangle_\\delta$. Let's check this."
   ]
  },
  {
   "cell_type": "code",
   "execution_count": 7,
   "metadata": {},
   "outputs": [
    {
     "data": {
      "text/plain": [
       "(2n5-18n4+40n3-16n2+96n)*(1,1,2,3)+(2n5-18n4+40n3-16n2+96n)*(1,2,3,1)+(-n5+6n4-16n3+128n2-384n)*(1,2,3,4)+(16n4-112n3+256n2-320n)*(1,2,2,1)+(2n5-18n4+40n3-16n2+96n)*(1,2,2,3)+(16n4-112n3+256n2-320n)*(1,1,2,2)+(2n5-18n4+40n3-16n2+96n)*(1,2,3,3)\r\n",
       "\r\n"
      ]
     },
     "execution_count": 7,
     "metadata": {},
     "output_type": "execute_result"
    }
   ],
   "source": [
    "plin p1=n^2*l[1]-n*l[2]+l[6];//actually n^2-multiple of p_1 as defined above\n",
    "plin p2=n*l[5]-l[6];         //actually n-multiple of p_2 as defined above\n",
    "n*q-(2n5-18n4+48n3-48n2+96n-64)*p1-(-n6+11n5-50n4+144n3-304n2+320n-64)*p2;"
   ]
  },
  {
   "cell_type": "markdown",
   "metadata": {},
   "source": [
    "Indeed, all those summands are already generated by $\\mathsf{ab}$. From a [different computation](../lincat/Sect_4_4_1.ipynb), we already know that $p$ generates $\\mathsf{ab}$. So, we have just proven that $q'\\in\\langle p\\rangle_\\delta$. Therefore, the only thing that remains to show is that $q'$ is not a multiple of $p$.\n",
    "\n",
    "This is a matter of solving the following equation:\n",
    "$$(2\\delta^5-18\\delta^4+48\\delta^3-48\\delta^2+96\\delta-64)(2-\\delta)=2(-\\delta^6+11\\delta^5-50\\delta^4+144\\delta^3-304\\delta^2+320\\delta-64)$$\n",
    "Putting everything on one side, we get\n",
    "$$16\\delta(\\delta-2)(\\delta-3)(\\delta-4)=0,$$\n",
    "which is only true for $\\delta\\in\\{0,2,3,4\\}$.\n",
    "\n",
    "Therefore, taking $\\delta\\neq 0,2,3,4$, we are able to express $p_1$ and $p_2$ as a linear combination of $p$ and $q'$ and hence we must have $\\langle p\\rangle_\\delta=\\langle p_1,p_2\\rangle_\\delta$."
   ]
  },
  {
   "cell_type": "code",
   "execution_count": null,
   "metadata": {},
   "outputs": [],
   "source": []
  }
 ],
 "metadata": {
  "kernelspec": {
   "display_name": "Singular",
   "language": "singular",
   "name": "singular"
  },
  "language_info": {
   "codemirror_mode": "singular",
   "file_extension": ".singular",
   "mimetype": "text/x-singular",
   "name": "Singular"
  }
 },
 "nbformat": 4,
 "nbformat_minor": 2
}
